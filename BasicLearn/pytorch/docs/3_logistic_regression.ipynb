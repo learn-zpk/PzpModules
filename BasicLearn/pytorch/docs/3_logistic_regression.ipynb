{
 "cells": [
  {
   "cell_type": "code",
   "execution_count": 1,
   "metadata": {},
   "outputs": [
    {
     "data": {
      "text/plain": [
       "'1.1.0'"
      ]
     },
     "execution_count": 1,
     "metadata": {},
     "output_type": "execute_result"
    }
   ],
   "source": [
    "import torch\n",
    "import torch.nn as nn\n",
    "import numpy as np\n",
    "torch.__version__"
   ]
  },
  {
   "cell_type": "code",
   "execution_count": 4,
   "metadata": {},
   "outputs": [
    {
     "name": "stdout",
     "output_type": "stream",
     "text": [
      "(1000, 25)\n"
     ]
    }
   ],
   "source": [
    "# 1. 加载数据\n",
    "# 二分类的数据集\n",
    "data=np.loadtxt('german.data-numeric')\n",
    "print(data.shape)"
   ]
  },
  {
   "cell_type": "code",
   "execution_count": 5,
   "metadata": {},
   "outputs": [
    {
     "name": "stdout",
     "output_type": "stream",
     "text": [
      "[[-1.25456565 -1.23647786  1.34401408 ... -0.5         0.76635604\n",
      "   1.        ]\n",
      " [-0.45902624  2.24819436 -0.50342796 ... -0.5         0.76635604\n",
      "   2.        ]\n",
      " [ 1.13205258 -0.73866754  1.34401408 ...  2.         -1.30487651\n",
      "   1.        ]\n",
      " ...\n",
      " [ 1.13205258 -0.73866754 -0.50342796 ... -0.5         0.76635604\n",
      "   1.        ]\n",
      " [-1.25456565  1.9992892  -0.50342796 ... -0.5         0.76635604\n",
      "   2.        ]\n",
      " [-0.45902624  1.9992892   1.34401408 ... -0.5         0.76635604\n",
      "   1.        ]]\n"
     ]
    }
   ],
   "source": [
    "# 2. 数据归一化处理\n",
    "r,c=data.shape\n",
    "for j in range(c-1):\n",
    "    mean_val=np.mean(data[:,j])\n",
    "    std_val=np.std(data[:,j])\n",
    "    data[:,j]=(data[:,j]-mean_val)/std_val\n",
    "print(data)"
   ]
  },
  {
   "cell_type": "code",
   "execution_count": 8,
   "metadata": {},
   "outputs": [
    {
     "name": "stdout",
     "output_type": "stream",
     "text": [
      "[[ 1.13205258  0.25695309 -0.50342796 ... -0.5         0.76635604\n",
      "   1.        ]\n",
      " [-0.45902624 -0.07492045  0.42029306 ... -0.5        -1.30487651\n",
      "   1.        ]\n",
      " [ 1.13205258  0.25695309  1.34401408 ... -0.5        -1.30487651\n",
      "   1.        ]\n",
      " ...\n",
      " [ 0.33651317 -0.9875727  -0.50342796 ...  2.         -1.30487651\n",
      "   2.        ]\n",
      " [-1.25456565  2.24819436  1.34401408 ...  2.         -1.30487651\n",
      "   2.        ]\n",
      " [-1.25456565  0.25695309 -1.42714898 ... -0.5         0.76635604\n",
      "   1.        ]]\n"
     ]
    }
   ],
   "source": [
    "# 打乱数据\n",
    "np.random.shuffle(data) # 原地操作，行行之前打乱\n",
    "#data= np.random.permutation(data)# 返回一个修改后的数组\n",
    "print(data)"
   ]
  },
  {
   "cell_type": "code",
   "execution_count": 10,
   "metadata": {},
   "outputs": [
    {
     "data": {
      "text/plain": [
       "[[1, 2], [5, 6], [3, 4]]"
      ]
     },
     "execution_count": 10,
     "metadata": {},
     "output_type": "execute_result"
    }
   ],
   "source": [
    "a=[[1,2],[3,4],[5,6]]\n",
    "np.random.shuffle(a) # shuffle是原地操作\n",
    "#a= np.random.permutation()# 返回一个修改后的数据"
   ]
  },
  {
   "cell_type": "code",
   "execution_count": 33,
   "metadata": {},
   "outputs": [],
   "source": [
    "# 生成训练集和测试集\n",
    "train_data=data[:900,:c-1]\n",
    "train_lab=data[:900,c-1]-1\n",
    "test_data=data[900:,:c-1]\n",
    "test_lab=data[900:,c-1]-1"
   ]
  },
  {
   "cell_type": "code",
   "execution_count": 65,
   "metadata": {},
   "outputs": [],
   "source": [
    "# 定义模型\n",
    "class LR(nn.Module):\n",
    "    def __init__(self):\n",
    "        super(LR,self).__init__()\n",
    "        #self.fc=nn.Linear(24,2) #2为类别数目\n",
    "        self.fc1=nn.Linear(24,100)\n",
    "        self.fc2=nn.Linear(100,2)\n",
    "    def forward(self,x):\n",
    "        out=self.fc1(x)\n",
    "        out=self.fc2(out)\n",
    "        out=torch.sigmoid(out)\n",
    "        return out"
   ]
  },
  {
   "cell_type": "code",
   "execution_count": 66,
   "metadata": {},
   "outputs": [],
   "source": [
    "net=LR()\n",
    "criterion=nn.CrossEntropyLoss() #使用CrossEntropyLoss计算损失\n",
    "optim=torch.optim.Adam(net.parameters()) # Adam优化\n",
    "epochs=1000"
   ]
  },
  {
   "cell_type": "code",
   "execution_count": 67,
   "metadata": {},
   "outputs": [
    {
     "name": "stdout",
     "output_type": "stream",
     "text": [
      "torch.Size([100, 2]) torch.Size([100])\n",
      "Epoch:100,Loss:0.5306,Accuracy：0.72\n",
      "torch.Size([100, 2]) torch.Size([100])\n",
      "Epoch:200,Loss:0.5134,Accuracy：0.74\n",
      "torch.Size([100, 2]) torch.Size([100])\n",
      "Epoch:300,Loss:0.5087,Accuracy：0.73\n",
      "torch.Size([100, 2]) torch.Size([100])\n",
      "Epoch:400,Loss:0.5027,Accuracy：0.72\n",
      "torch.Size([100, 2]) torch.Size([100])\n",
      "Epoch:500,Loss:0.4987,Accuracy：0.72\n",
      "torch.Size([100, 2]) torch.Size([100])\n",
      "Epoch:600,Loss:0.4959,Accuracy：0.73\n",
      "torch.Size([100, 2]) torch.Size([100])\n",
      "Epoch:700,Loss:0.4936,Accuracy：0.73\n",
      "torch.Size([100, 2]) torch.Size([100])\n",
      "Epoch:800,Loss:0.4916,Accuracy：0.73\n",
      "torch.Size([100, 2]) torch.Size([100])\n",
      "Epoch:900,Loss:0.4898,Accuracy：0.73\n",
      "torch.Size([100, 2]) torch.Size([100])\n",
      "Epoch:1000,Loss:0.4883,Accuracy：0.73\n"
     ]
    }
   ],
   "source": [
    "def test(pred,lab):\n",
    "    print(pred.shape,lab.shape)\n",
    "    #print(pred.max(-1)[1])\n",
    "    t=pred.max(1)[1]==lab\n",
    "    #print(t)\n",
    "    return torch.mean(t.float())\n",
    "for i in range(epochs):\n",
    "    # 指定模型为训练模式，计算梯度\n",
    "    net.train()\n",
    "    x=torch.from_numpy(train_data).float()\n",
    "    y=torch.from_numpy(train_lab).long()\n",
    "    y_hat=net(x)\n",
    "    if (i+1)%100==0:\n",
    "        #print(y_hat,y)\n",
    "        pass\n",
    "    loss=criterion(y_hat,y)\n",
    "    optim.zero_grad()\n",
    "    loss.backward() # 反向传播\n",
    "    optim.step() #优化\n",
    "    if (i+1)%100==0:\n",
    "        # 评估模型\n",
    "        net.eval()\n",
    "        test_in=torch.from_numpy(test_data).float()\n",
    "        test_target=torch.from_numpy(test_lab).long()\n",
    "        test_out=net(test_in)\n",
    "        # 使用我们的测试函数计算准确率\n",
    "        accu=test(test_out,test_target)\n",
    "        print(\"Epoch:{},Loss:{:.4f},Accuracy：{:.2f}\".format(i+1,loss.item(),accu))"
   ]
  },
  {
   "cell_type": "code",
   "execution_count": 59,
   "metadata": {},
   "outputs": [
    {
     "data": {
      "text/plain": [
       "torch.return_types.max(\n",
       "values=tensor([2., 5.]),\n",
       "indices=tensor([2, 2]))"
      ]
     },
     "execution_count": 59,
     "metadata": {},
     "output_type": "execute_result"
    }
   ],
   "source": [
    "nn.CrossEntropyLoss()(torch.FloatTensor([[0, 1]]),torch.LongTensor([1]))\n",
    "torch.max(torch.FloatTensor([[0, 1,2],[3,4,5]]),0) # [3,4,5],按第0个维度(行)取最大值\n",
    "torch.max(torch.FloatTensor([[0, 1,2],[3,4,5]]),1) # [2,5],按第1个维度(列)取最大值\n"
   ]
  },
  {
   "cell_type": "markdown",
   "metadata": {},
   "source": []
  }
 ],
 "metadata": {
  "kernelspec": {
   "display_name": "Python 3",
   "language": "python",
   "name": "python3"
  },
  "language_info": {
   "codemirror_mode": {
    "name": "ipython",
    "version": 3
   },
   "file_extension": ".py",
   "mimetype": "text/x-python",
   "name": "python",
   "nbconvert_exporter": "python",
   "pygments_lexer": "ipython3",
   "version": "3.6.2"
  }
 },
 "nbformat": 4,
 "nbformat_minor": 2
}
