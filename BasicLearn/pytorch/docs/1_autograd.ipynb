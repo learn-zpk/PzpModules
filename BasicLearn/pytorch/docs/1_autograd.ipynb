{
 "cells": [
  {
   "cell_type": "markdown",
   "metadata": {},
   "source": [
    "## Autograd: 自动求导机制"
   ]
  },
  {
   "cell_type": "markdown",
   "metadata": {},
   "source": [
    "- `.requires_grad`\n",
    "     - 设置张量的属性`.requires_grad`为True时，可以跟踪该张量的所有梯度变换过程。\n",
    "     - 计算完成后，可调用`.backward()`，自动计算所有的梯度。该Tensor的所有梯度会自动累计到.grad属性\n",
    "- `.detach()`\n",
    "     - 将张量与计算历史记录分离，禁止跟踪它将来的计算记录\n",
    "- `with torch.no_grad()`\n",
    "     - 防止跟踪历史记录，可用于评估等不需要梯度计算的过程\n",
    "- `Function`\n",
    "     - 每个张量都有一个.grad_fn属性，这个属性创建了Tensor的Function"
   ]
  },
  {
   "cell_type": "code",
   "execution_count": 3,
   "metadata": {},
   "outputs": [],
   "source": [
    "import torch"
   ]
  },
  {
   "cell_type": "code",
   "execution_count": 5,
   "metadata": {},
   "outputs": [
    {
     "name": "stdout",
     "output_type": "stream",
     "text": [
      "tensor([[1., 1.],\n",
      "        [1., 1.]], requires_grad=True)\n"
     ]
    }
   ],
   "source": [
    "x=torch.ones(2,2,requires_grad=True)\n",
    "print(x)"
   ]
  },
  {
   "cell_type": "code",
   "execution_count": 7,
   "metadata": {},
   "outputs": [
    {
     "name": "stdout",
     "output_type": "stream",
     "text": [
      "tensor([[3., 3.],\n",
      "        [3., 3.]], grad_fn=<AddBackward0>)\n",
      "<AddBackward0 object at 0x123a98cc0>\n"
     ]
    }
   ],
   "source": [
    "y=x+2\n",
    "print(y)\n",
    "print(y.grad_fn)"
   ]
  },
  {
   "cell_type": "code",
   "execution_count": 10,
   "metadata": {},
   "outputs": [
    {
     "name": "stdout",
     "output_type": "stream",
     "text": [
      "tensor([[27., 27.],\n",
      "        [27., 27.]], grad_fn=<MulBackward0>)\n",
      "tensor(27., grad_fn=<MeanBackward0>)\n"
     ]
    }
   ],
   "source": [
    "z=y*y*3 # Tensor的*要维度一致\n",
    "out=z.mean()\n",
    "print(z)\n",
    "print(out)"
   ]
  },
  {
   "cell_type": "code",
   "execution_count": 11,
   "metadata": {},
   "outputs": [
    {
     "name": "stdout",
     "output_type": "stream",
     "text": [
      "False\n",
      "True\n",
      "<SumBackward0 object at 0x123b0c550>\n"
     ]
    }
   ],
   "source": [
    "a=torch.randn(2,2)\n",
    "a=((a*3)/(a-1))\n",
    "print(a.requires_grad)\n",
    "a.requires_grad_(True)\n",
    "print(a.requires_grad)\n",
    "b=(a*a).sum()\n",
    "print(b.grad_fn)"
   ]
  },
  {
   "cell_type": "code",
   "execution_count": 12,
   "metadata": {},
   "outputs": [],
   "source": [
    "out.backward()"
   ]
  },
  {
   "cell_type": "code",
   "execution_count": 13,
   "metadata": {},
   "outputs": [
    {
     "name": "stdout",
     "output_type": "stream",
     "text": [
      "tensor([[4.5000, 4.5000],\n",
      "        [4.5000, 4.5000]])\n",
      "None\n",
      "None\n"
     ]
    }
   ],
   "source": [
    "print(x.grad)\n",
    "print(y.grad) \n",
    "print(z.grad) "
   ]
  },
  {
   "cell_type": "code",
   "execution_count": 63,
   "metadata": {},
   "outputs": [
    {
     "name": "stdout",
     "output_type": "stream",
     "text": [
      "tensor([4.6030, 0.7516, 3.6041], grad_fn=<MulBackward0>)\n",
      "tensor([4.6030, 0.7516, 3.6041])\n",
      "tensor(5.8942)\n",
      "tensor([1178.3732,  192.4036,  922.6443], grad_fn=<MulBackward0>)\n"
     ]
    }
   ],
   "source": [
    "x=torch.randn(3,requires_grad=True)\n",
    "y=x*2\n",
    "print(y)\n",
    "print(y.data)\n",
    "print(y.data.norm()) \n",
    "# 计算y值得二范数\n",
    "while y.data.norm()<1000:\n",
    "    y=y*2\n",
    "print(y)"
   ]
  },
  {
   "cell_type": "code",
   "execution_count": 64,
   "metadata": {},
   "outputs": [
    {
     "name": "stdout",
     "output_type": "stream",
     "text": [
      "tensor(512.)\n",
      "tensor([  5.1200,  51.2000, 512.0000])\n"
     ]
    }
   ],
   "source": [
    "#gradients=torch.tensor([1.0, 0.1, 0.0001],dtype=torch.float)\n",
    "#y.backward(gradients)\n",
    "y.backward(torch.tensor([0.01, 0.1, 1],dtype=torch.float))\n",
    "print(y[0].data/x[0].data) # y=512x\n",
    "print(x.grad)\n",
    "\"\"\"\n",
    "[[0.01,0.1,1]*[[512,0,0],[0,512,0],[0,0,512]])^T\n",
    "\"\"\"[]"
   ]
  },
  {
   "cell_type": "code",
   "execution_count": 44,
   "metadata": {},
   "outputs": [],
   "source": [
    "a=torch.FloatTensor([[2,4]])\n",
    "a.requires_grad_(requires_grad=True)\n",
    "b=torch.zeros(1,2)\n",
    "b[0,0]=a[0,0]**2+a[0,1]\n",
    "b[0,1]=a[0,1]**3+a[0,0]\n",
    "out=b*2\n",
    "# backward需要传入和out维度一样的矩阵\n",
    "out.backward(torch.FloatTensor([[1,1]]))"
   ]
  },
  {
   "cell_type": "code",
   "execution_count": 46,
   "metadata": {},
   "outputs": [
    {
     "name": "stdout",
     "output_type": "stream",
     "text": [
      "input: tensor([[2., 4.]])\n",
      "output: tensor([[ 16., 132.]])\n",
      "input gradients: tensor([[10., 98.]])\n"
     ]
    }
   ],
   "source": [
    "print(\"input:\",a.data)\n",
    "print(\"output:\",out.data)\n",
    "print('input gradients:',a.grad)"
   ]
  },
  {
   "cell_type": "code",
   "execution_count": 65,
   "metadata": {},
   "outputs": [
    {
     "name": "stdout",
     "output_type": "stream",
     "text": [
      "True\n",
      "True\n",
      "False\n"
     ]
    }
   ],
   "source": [
    "print(x.requires_grad)\n",
    "print((x ** 2).requires_grad)\n",
    "\n",
    "with torch.no_grad():\n",
    "\tprint((x ** 2).requires_grad)"
   ]
  },
  {
   "cell_type": "code",
   "execution_count": null,
   "metadata": {},
   "outputs": [],
   "source": []
  }
 ],
 "metadata": {
  "kernelspec": {
   "display_name": "Python 3",
   "language": "python",
   "name": "python3"
  },
  "language_info": {
   "codemirror_mode": {
    "name": "ipython",
    "version": 3
   },
   "file_extension": ".py",
   "mimetype": "text/x-python",
   "name": "python",
   "nbconvert_exporter": "python",
   "pygments_lexer": "ipython3",
   "version": "3.6.2"
  }
 },
 "nbformat": 4,
 "nbformat_minor": 2
}
