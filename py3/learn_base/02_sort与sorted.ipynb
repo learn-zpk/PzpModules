{
  "cells": [
    {
      "cell_type": "markdown",
      "source": "# python91个建议-按需选择sort()或者sorted()",
      "metadata": {
        "pycharm": {
          "metadata": false
        }
      }
    },
    {
      "cell_type": "code",
      "execution_count": 1,
      "metadata": {
        "collapsed": true,
        "pycharm": {}
      },
      "outputs": [
        {
          "data": {
            "text/plain": "[{\u0027name\u0027: \u0027alan\u0027, \u0027age\u0027: 50},\n {\u0027name\u0027: \u0027bob\u0027, \u0027age\u0027: 23},\n {\u0027name\u0027: \u0027jon\u0027, \u0027age\u0027: 32}]"
          },
          "metadata": {},
          "output_type": "execute_result",
          "execution_count": 1
        }
      ],
      "source": "persons\u003d[{\u0027name\u0027:\u0027jon\u0027,\"age\":32},{\u0027name\u0027:\u0027alan\u0027,\u0027age\u0027:50},{\u0027name\u0027:\u0027bob\u0027,\u0027age\u0027:23}]\nsorted(persons,key\u003dlambda x:(x[\u0027name\u0027],-x[\u0027age\u0027]))"
    }
  ],
  "metadata": {
    "language_info": {
      "codemirror_mode": {
        "name": "ipython",
        "version": 2
      },
      "file_extension": ".py",
      "mimetype": "text/x-python",
      "name": "python",
      "nbconvert_exporter": "python",
      "pygments_lexer": "ipython2",
      "version": "2.7.6"
    },
    "kernelspec": {
      "name": "pycharm-bb6350fd",
      "language": "python",
      "display_name": "PyCharm (py3)"
    },
    "stem_cell": {
      "cell_type": "raw",
      "source": "",
      "metadata": {
        "pycharm": {
          "metadata": false
        }
      }
    }
  },
  "nbformat": 4,
  "nbformat_minor": 0
}