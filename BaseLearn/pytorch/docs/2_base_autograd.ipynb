{
 "cells": [
  {
   "cell_type": "markdown",
   "metadata": {},
   "source": [
    "## 自动求导"
   ]
  },
  {
   "cell_type": "markdown",
   "metadata": {},
   "source": [
    "- 深度学习本质上是通过反向传播求导数\n",
    "- autograd提供自动微分功能\n",
    "- 使用autograd时设置`tensor.requires_grad=True`"
   ]
  },
  {
   "cell_type": "code",
   "execution_count": 1,
   "metadata": {},
   "outputs": [],
   "source": [
    "import torch"
   ]
  },
  {
   "cell_type": "code",
   "execution_count": 2,
   "metadata": {},
   "outputs": [
    {
     "data": {
      "text/plain": [
       "tensor([[ 0.4105,  0.7196, -0.2166, -0.3294,  0.7362],\n",
       "        [ 1.0934,  1.2342, -1.0429, -1.0907,  0.1891],\n",
       "        [-1.7521, -0.9292, -0.2699,  1.8898,  1.4555],\n",
       "        [-1.2967, -1.1645,  1.6761,  0.5552, -0.6375],\n",
       "        [-0.3566,  1.8279, -1.4839, -0.5166, -0.4827]], requires_grad=True)"
      ]
     },
     "execution_count": 2,
     "metadata": {},
     "output_type": "execute_result"
    }
   ],
   "source": [
    "x=torch.randn(5,5,requires_grad=True)\n",
    "x"
   ]
  },
  {
   "cell_type": "code",
   "execution_count": 3,
   "metadata": {},
   "outputs": [],
   "source": [
    "y=torch.randn(5,5,requires_grad=True)"
   ]
  },
  {
   "cell_type": "code",
   "execution_count": 6,
   "metadata": {},
   "outputs": [
    {
     "data": {
      "text/plain": [
       "tensor(3.5590, grad_fn=<SumBackward0>)"
      ]
     },
     "execution_count": 6,
     "metadata": {},
     "output_type": "execute_result"
    }
   ],
   "source": [
    "z=torch.sum(x+y)\n",
    "z"
   ]
  },
  {
   "cell_type": "code",
   "execution_count": 7,
   "metadata": {},
   "outputs": [],
   "source": [
    "z.backward()"
   ]
  },
  {
   "cell_type": "code",
   "execution_count": 8,
   "metadata": {},
   "outputs": [
    {
     "name": "stdout",
     "output_type": "stream",
     "text": [
      "tensor([[1., 1., 1., 1., 1.],\n",
      "        [1., 1., 1., 1., 1.],\n",
      "        [1., 1., 1., 1., 1.],\n",
      "        [1., 1., 1., 1., 1.],\n",
      "        [1., 1., 1., 1., 1.]])\n",
      "tensor([[1., 1., 1., 1., 1.],\n",
      "        [1., 1., 1., 1., 1.],\n",
      "        [1., 1., 1., 1., 1.],\n",
      "        [1., 1., 1., 1., 1.],\n",
      "        [1., 1., 1., 1., 1.]])\n"
     ]
    }
   ],
   "source": [
    "print(x.grad)\n",
    "print(y.grad)"
   ]
  },
  {
   "cell_type": "code",
   "execution_count": 18,
   "metadata": {},
   "outputs": [
    {
     "name": "stdout",
     "output_type": "stream",
     "text": [
      "tensor([[0.6106, 0.4548, 0.4084, 0.5060, 0.5793],\n",
      "        [0.8542, 0.6751, 0.0926, 0.1542, 0.7551],\n",
      "        [0.6411, 0.6217, 0.0663, 0.3985, 0.9624],\n",
      "        [0.5263, 0.7247, 0.7745, 0.1994, 0.5677],\n",
      "        [0.0161, 0.2196, 0.9854, 0.2293, 0.7126]], requires_grad=True)\n",
      "tensor([[0.4278, 0.8833, 0.2222, 0.6758, 0.2172],\n",
      "        [0.5271, 0.3302, 0.6036, 0.3423, 0.0234],\n",
      "        [0.9831, 0.9291, 0.5055, 0.7897, 0.7991],\n",
      "        [0.5587, 0.5999, 0.3694, 0.7713, 0.3255],\n",
      "        [0.2002, 0.2498, 0.8083, 0.5847, 0.0296]], requires_grad=True)\n",
      "tensor([[0.4511, 0.8960, 0.1777, 0.5647, 0.3458],\n",
      "        [0.8762, 0.4917, 0.2285, 0.0639, 0.5702],\n",
      "        [1.3611, 1.1885, 0.1336, 0.6513, 1.4364],\n",
      "        [0.4514, 0.7411, 0.6503, 0.4987, 0.3567],\n",
      "        [0.0083, 0.0638, 1.4992, 0.2524, 0.5079]], grad_fn=<AddBackward0>)\n"
     ]
    }
   ],
   "source": [
    "x=torch.rand(5,5,requires_grad=True)\n",
    "y=torch.rand(5,5,requires_grad=True)\n",
    "z=x**2+y**3\n",
    "print(x)\n",
    "print(y)\n",
    "print(z)"
   ]
  },
  {
   "cell_type": "code",
   "execution_count": 19,
   "metadata": {},
   "outputs": [
    {
     "name": "stdout",
     "output_type": "stream",
     "text": [
      "tensor([[1.2212, 0.9097, 0.8167, 1.0120, 1.1586],\n",
      "        [1.7085, 1.3501, 0.1852, 0.3084, 1.5102],\n",
      "        [1.2822, 1.2433, 0.1325, 0.7970, 1.9248],\n",
      "        [1.0525, 1.4494, 1.5491, 0.3989, 1.1354],\n",
      "        [0.0323, 0.4392, 1.9709, 0.4585, 1.4252]])\n"
     ]
    }
   ],
   "source": [
    "#print(torch.ones_like(x))\n",
    "z.backward(torch.ones_like(x))\n",
    "print(x.grad)"
   ]
  },
  {
   "cell_type": "code",
   "execution_count": null,
   "metadata": {},
   "outputs": [],
   "source": [
    "- `with torch.no_grad()`:禁止对已设置requires_grad=True的张量进行自动求导。"
   ]
  }
 ],
 "metadata": {
  "kernelspec": {
   "display_name": "Python 3",
   "language": "python",
   "name": "python3"
  },
  "language_info": {
   "codemirror_mode": {
    "name": "ipython",
    "version": 3
   },
   "file_extension": ".py",
   "mimetype": "text/x-python",
   "name": "python",
   "nbconvert_exporter": "python",
   "pygments_lexer": "ipython3",
   "version": "3.6.2"
  }
 },
 "nbformat": 4,
 "nbformat_minor": 2
}
