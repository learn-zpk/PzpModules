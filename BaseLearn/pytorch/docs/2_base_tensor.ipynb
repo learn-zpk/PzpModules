{
 "cells": [
  {
   "cell_type": "markdown",
   "metadata": {},
   "source": [
    "## Pytorch 基础：张量"
   ]
  },
  {
   "cell_type": "code",
   "execution_count": 1,
   "metadata": {},
   "outputs": [
    {
     "data": {
      "text/plain": [
       "'1.1.0'"
      ]
     },
     "execution_count": 1,
     "metadata": {},
     "output_type": "execute_result"
    }
   ],
   "source": [
    "import torch\n",
    "import numpy as np\n",
    "torch.__version__"
   ]
  },
  {
   "cell_type": "markdown",
   "metadata": {},
   "source": [
    "- 张量(Tensor)，pytorch中的基础运算单位，与numpy的ndarray相同，表示一个多维矩阵。与np.ndarray最大的区别是Tensor可以在gpu上运行"
   ]
  },
  {
   "cell_type": "code",
   "execution_count": 2,
   "metadata": {},
   "outputs": [
    {
     "data": {
      "text/plain": [
       "tensor([[-0.2290,  1.0975,  1.3688],\n",
       "        [-1.0511, -1.4172, -0.7095]])"
      ]
     },
     "execution_count": 2,
     "metadata": {},
     "output_type": "execute_result"
    }
   ],
   "source": [
    "x=torch.randn(2,3)\n",
    "x"
   ]
  },
  {
   "cell_type": "code",
   "execution_count": 3,
   "metadata": {},
   "outputs": [
    {
     "name": "stdout",
     "output_type": "stream",
     "text": [
      "torch.Size([2, 3])\n",
      "torch.Size([2, 3])\n"
     ]
    }
   ],
   "source": [
    "# shape和size()都用来获取Tensor的维度\n",
    "print(x.shape)\n",
    "print(x.size())"
   ]
  },
  {
   "cell_type": "markdown",
   "metadata": {},
   "source": [
    "在同构的意义下，第零阶张量(秩r=0)为标量(Scalar);第一阶张量(秩r=1)为向量(Vector);第二阶张量(秩r=2)为矩阵(Matrix);第三阶以上统称为多维张量。"
   ]
  },
  {
   "cell_type": "code",
   "execution_count": 5,
   "metadata": {},
   "outputs": [
    {
     "name": "stdout",
     "output_type": "stream",
     "text": [
      "tensor([[[-0.5429,  0.7061, -1.2773, -0.1267],\n",
      "         [ 0.1533,  0.7841, -2.8851,  0.3526],\n",
      "         [-0.7783,  0.0732, -0.5997, -0.3498]],\n",
      "\n",
      "        [[ 1.8963, -0.8403, -1.5102,  2.3071],\n",
      "         [-0.3436,  0.8478,  2.8932,  0.0065],\n",
      "         [ 0.5201,  1.6006, -1.5135, -1.0576]]])\n"
     ]
    }
   ],
   "source": [
    "# 多维张量\n",
    "multidimensional = torch.randn(2,3,4)\n",
    "print(multidimensional)"
   ]
  },
  {
   "cell_type": "code",
   "execution_count": 7,
   "metadata": {},
   "outputs": [
    {
     "name": "stdout",
     "output_type": "stream",
     "text": [
      "tensor([[ 0.8280,  1.2189, -0.7991],\n",
      "        [ 0.0568, -0.2447,  0.9181]])\n",
      "torch.Size([2, 3])\n"
     ]
    }
   ],
   "source": [
    "# 矩阵\n",
    "matrix=torch.randn(2,3)\n",
    "print(matrix)\n",
    "print(matrix.size())"
   ]
  },
  {
   "cell_type": "code",
   "execution_count": 8,
   "metadata": {},
   "outputs": [
    {
     "name": "stdout",
     "output_type": "stream",
     "text": [
      "tensor([-0.1661, -0.9011, -1.2997, -0.8827])\n",
      "torch.Size([4])\n"
     ]
    }
   ],
   "source": [
    "# 向量\n",
    "vector=torch.randn(4)\n",
    "print(vector)\n",
    "print(vector.size())"
   ]
  },
  {
   "cell_type": "code",
   "execution_count": 11,
   "metadata": {},
   "outputs": [
    {
     "name": "stdout",
     "output_type": "stream",
     "text": [
      "tensor(3.1416)\n",
      "torch.Size([])\n",
      "3.141592502593994\n"
     ]
    }
   ],
   "source": [
    "# 标量\n",
    "scalar=torch.tensor(3.1415926)\n",
    "print(scalar)\n",
    "print(scalar.size())\n",
    "print(scalar.item())  # 使用item()直接从标量中取值"
   ]
  },
  {
   "cell_type": "code",
   "execution_count": 15,
   "metadata": {},
   "outputs": [
    {
     "name": "stdout",
     "output_type": "stream",
     "text": [
      "tensor([[[3.1415],\n",
      "         [1.0000]],\n",
      "\n",
      "        [[1.0000],\n",
      "         [1.0000]]])\n",
      "torch.Size([2, 2, 1])\n",
      "3.1415162086486816\n"
     ]
    }
   ],
   "source": [
    "# 只有一个元素的Tensor也可以使用item()\n",
    "tensor=torch.tensor([[[3.1415162],[1]],[[1],[1]]])\n",
    "print(tensor)\n",
    "print(tensor.size())\n",
    "print(tensor[0][0][0].item())"
   ]
  },
  {
   "cell_type": "markdown",
   "metadata": {},
   "source": [
    "## 基本类型"
   ]
  },
  {
   "cell_type": "markdown",
   "metadata": {},
   "source": [
    "- 32位浮点型: torch.FloatTensor(默认)\n",
    "- 64位浮点型: torch.DoubleTensor\n",
    "- 64位整型: torch.LongTensor\n",
    "- 32位整型: torch.IntTensor\n",
    "- 16位整型: torch.ShortTensor"
   ]
  },
  {
   "cell_type": "code",
   "execution_count": 22,
   "metadata": {},
   "outputs": [
    {
     "name": "stdout",
     "output_type": "stream",
     "text": [
      "torch.int64\n",
      "tensor([[[3],\n",
      "         [1]],\n",
      "\n",
      "        [[1],\n",
      "         [1]]])\n"
     ]
    }
   ],
   "source": [
    "long=tensor.long() # 将张量tensor投射成long类型\n",
    "print(long.dtype)\n",
    "print(long)"
   ]
  },
  {
   "cell_type": "code",
   "execution_count": 23,
   "metadata": {},
   "outputs": [
    {
     "name": "stdout",
     "output_type": "stream",
     "text": [
      "torch.float16\n",
      "tensor([[[3.1406],\n",
      "         [1.0000]],\n",
      "\n",
      "        [[1.0000],\n",
      "         [1.0000]]], dtype=torch.float16)\n"
     ]
    }
   ],
   "source": [
    "half_t=tensor.half() # 将张量tensor投射成半精度浮点类型\n",
    "print(half_t.dtype)\n",
    "print(half_t)"
   ]
  },
  {
   "cell_type": "code",
   "execution_count": 24,
   "metadata": {},
   "outputs": [
    {
     "name": "stdout",
     "output_type": "stream",
     "text": [
      "torch.int32\n",
      "tensor([[[3],\n",
      "         [1]],\n",
      "\n",
      "        [[1],\n",
      "         [1]]], dtype=torch.int32)\n"
     ]
    }
   ],
   "source": [
    "int_t=tensor.int()\n",
    "print(int_t.dtype)\n",
    "print(int_t)"
   ]
  },
  {
   "cell_type": "code",
   "execution_count": 25,
   "metadata": {},
   "outputs": [
    {
     "name": "stdout",
     "output_type": "stream",
     "text": [
      "torch.float32\n",
      "tensor([[[3.1415],\n",
      "         [1.0000]],\n",
      "\n",
      "        [[1.0000],\n",
      "         [1.0000]]])\n"
     ]
    }
   ],
   "source": [
    "float_t = tensor.float()\n",
    "print(float_t.dtype)\n",
    "print(float_t)"
   ]
  },
  {
   "cell_type": "code",
   "execution_count": 26,
   "metadata": {},
   "outputs": [
    {
     "name": "stdout",
     "output_type": "stream",
     "text": [
      "torch.int16\n",
      "tensor([[[3],\n",
      "         [1]],\n",
      "\n",
      "        [[1],\n",
      "         [1]]], dtype=torch.int16)\n"
     ]
    }
   ],
   "source": [
    "short_t = tensor.short()\n",
    "print(short_t.dtype)\n",
    "print(short_t)"
   ]
  },
  {
   "cell_type": "code",
   "execution_count": 27,
   "metadata": {},
   "outputs": [
    {
     "name": "stdout",
     "output_type": "stream",
     "text": [
      "torch.int8\n",
      "tensor([[[3],\n",
      "         [1]],\n",
      "\n",
      "        [[1],\n",
      "         [1]]], dtype=torch.int8)\n"
     ]
    }
   ],
   "source": [
    "char_t = tensor.char()\n",
    "print(char_t.dtype) #8位int\n",
    "print(char_t)"
   ]
  },
  {
   "cell_type": "code",
   "execution_count": 28,
   "metadata": {},
   "outputs": [
    {
     "name": "stdout",
     "output_type": "stream",
     "text": [
      "torch.uint8\n",
      "tensor([[[3],\n",
      "         [1]],\n",
      "\n",
      "        [[1],\n",
      "         [1]]], dtype=torch.uint8)\n"
     ]
    }
   ],
   "source": [
    "byte_t=tensor.byte()\n",
    "print(byte_t.dtype) #无符号8位\n",
    "print(byte_t)"
   ]
  },
  {
   "cell_type": "markdown",
   "metadata": {},
   "source": [
    "- numpy转换: `.numpy(),from_numpy()`。通过这两个方法转换的tensor/ndarray其中一个改变，另外一个也跟着改变"
   ]
  },
  {
   "cell_type": "code",
   "execution_count": 32,
   "metadata": {},
   "outputs": [
    {
     "name": "stdout",
     "output_type": "stream",
     "text": [
      "[[-0.53444076 -0.955656  ]\n",
      " [ 0.05717833 -0.8101765 ]\n",
      " [-0.07463469 -0.9990818 ]]\n"
     ]
    }
   ],
   "source": [
    "a=torch.randn(3,2)\n",
    "n=a.numpy()\n",
    "print(n)"
   ]
  },
  {
   "cell_type": "code",
   "execution_count": 33,
   "metadata": {},
   "outputs": [
    {
     "name": "stdout",
     "output_type": "stream",
     "text": [
      "tensor([[-0.5344, -0.9557],\n",
      "        [ 0.0572, -0.8102],\n",
      "        [-0.0746, -0.9991]])\n"
     ]
    }
   ],
   "source": [
    "torch_a=torch.from_numpy(n)\n",
    "print(torch_a)"
   ]
  },
  {
   "cell_type": "markdown",
   "metadata": {},
   "source": [
    "## 设备间转换:\n",
    " - `.cuda()`: tensor转到gpu上(只有一块gpu);\n",
    " - `.to()`: 多gpu时可使用to方法指定使用哪个设备\n",
    " - `.cpu()`: 将tensor转到cpu上"
   ]
  },
  {
   "cell_type": "code",
   "execution_count": 34,
   "metadata": {},
   "outputs": [
    {
     "data": {
      "text/plain": [
       "'torch.FloatTensor'"
      ]
     },
     "execution_count": 34,
     "metadata": {},
     "output_type": "execute_result"
    }
   ],
   "source": [
    "cpu_a=torch.randn(4,5)\n",
    "cpu_a.type()"
   ]
  },
  {
   "cell_type": "code",
   "execution_count": 38,
   "metadata": {},
   "outputs": [],
   "source": [
    "if torch.cuda.is_available():\n",
    "    gpu_a=cpu_a.cuda() # cuda不存在时指定cuda()会报错\n",
    "    gpu_a.type()\n",
    "    cpu_b=gpu_a.cpu()\n",
    "    cpu_b.type()"
   ]
  },
  {
   "cell_type": "code",
   "execution_count": 39,
   "metadata": {},
   "outputs": [
    {
     "name": "stdout",
     "output_type": "stream",
     "text": [
      "cpu\n"
     ]
    }
   ],
   "source": [
    "device = torch.device(\"cuda\" if torch.cuda.is_available() else \"cpu\")\n",
    "print(device)"
   ]
  },
  {
   "cell_type": "markdown",
   "metadata": {},
   "source": [
    "## 初始化"
   ]
  },
  {
   "cell_type": "markdown",
   "metadata": {},
   "source": [
    "- 使用[0,1]均匀分布初始化"
   ]
  },
  {
   "cell_type": "code",
   "execution_count": 43,
   "metadata": {},
   "outputs": [
    {
     "name": "stdout",
     "output_type": "stream",
     "text": [
      "tensor([[0.2423, 0.7098, 0.3067],\n",
      "        [0.5602, 0.3575, 0.0043],\n",
      "        [0.3453, 0.5707, 0.3182],\n",
      "        [0.2246, 0.4261, 0.7192],\n",
      "        [0.2484, 0.5784, 0.3002]])\n"
     ]
    }
   ],
   "source": [
    "rnd=torch.rand(5,3)\n",
    "print(rnd)"
   ]
  },
  {
   "cell_type": "markdown",
   "metadata": {},
   "source": [
    "- 生成全1的tensor"
   ]
  },
  {
   "cell_type": "code",
   "execution_count": 47,
   "metadata": {},
   "outputs": [
    {
     "name": "stdout",
     "output_type": "stream",
     "text": [
      "tensor([[1., 1.],\n",
      "        [1., 1.]])\n"
     ]
    }
   ],
   "source": [
    "one=torch.ones(2,2)\n",
    "print(one)"
   ]
  },
  {
   "cell_type": "markdown",
   "metadata": {},
   "source": [
    "- 生成全0的数据"
   ]
  },
  {
   "cell_type": "code",
   "execution_count": 48,
   "metadata": {},
   "outputs": [
    {
     "name": "stdout",
     "output_type": "stream",
     "text": [
      "tensor([[0., 0.],\n",
      "        [0., 0.]])\n"
     ]
    }
   ],
   "source": [
    "zero=torch.zeros(2,2)\n",
    "print(zero)"
   ]
  },
  {
   "cell_type": "markdown",
   "metadata": {},
   "source": [
    "- 生成单位矩阵\n"
   ]
  },
  {
   "cell_type": "code",
   "execution_count": 52,
   "metadata": {},
   "outputs": [
    {
     "name": "stdout",
     "output_type": "stream",
     "text": [
      "tensor([[1., 0.],\n",
      "        [0., 1.],\n",
      "        [0., 0.]])\n"
     ]
    }
   ],
   "source": [
    "eye=torch.eye(3,2)\n",
    "print(eye)"
   ]
  },
  {
   "cell_type": "markdown",
   "metadata": {},
   "source": [
    "- 使用均值为0方差为1的正态分布初始化"
   ]
  },
  {
   "cell_type": "code",
   "execution_count": 53,
   "metadata": {},
   "outputs": [
    {
     "name": "stdout",
     "output_type": "stream",
     "text": [
      "tensor([[-0.1956, -2.0436,  2.3679],\n",
      "        [-0.7472,  1.6500,  1.8465],\n",
      "        [-0.3698, -0.2404, -0.9299]])\n"
     ]
    }
   ],
   "source": [
    "x=torch.randn(3,3)\n",
    "print(x)"
   ]
  },
  {
   "cell_type": "markdown",
   "metadata": {},
   "source": [
    "## 常用方法"
   ]
  },
  {
   "cell_type": "code",
   "execution_count": 54,
   "metadata": {},
   "outputs": [
    {
     "name": "stdout",
     "output_type": "stream",
     "text": [
      "tensor([ 2.3679,  1.8465, -0.2404]) tensor([2, 2, 1])\n"
     ]
    }
   ],
   "source": [
    "max_value,max_idx=torch.max(x,dim=1) # dim=1，按行取; dim=0，按列取; \n",
    "print(max_value,max_idx)"
   ]
  },
  {
   "cell_type": "code",
   "execution_count": 55,
   "metadata": {},
   "outputs": [
    {
     "name": "stdout",
     "output_type": "stream",
     "text": [
      "tensor([-0.1956,  1.6500,  2.3679]) tensor([0, 1, 0])\n"
     ]
    }
   ],
   "source": [
    "max_value,max_idx=torch.max(x,dim=0)\n",
    "print(max_value,max_idx)"
   ]
  },
  {
   "cell_type": "code",
   "execution_count": 56,
   "metadata": {},
   "outputs": [
    {
     "name": "stdout",
     "output_type": "stream",
     "text": [
      "tensor([ 0.1286,  2.7493, -1.5400])\n",
      "tensor([-1.3126, -0.6340,  3.2845])\n"
     ]
    }
   ],
   "source": [
    "sum_x = torch.sum(x, dim=1)  # dim=1，按行取; dim=0，按列取; \n",
    "print(sum_x)\n",
    "sum_x = torch.sum(x, dim=0)  # dim=1，按行取; dim=0，按列取; \n",
    "print(sum_x)"
   ]
  },
  {
   "cell_type": "code",
   "execution_count": 57,
   "metadata": {},
   "outputs": [
    {
     "name": "stdout",
     "output_type": "stream",
     "text": [
      "tensor([[ 0.3636, -1.6916,  2.1166],\n",
      "        [-2.0041,  2.4978,  1.0890],\n",
      "        [ 0.1588, -0.5293, -0.6800]])\n"
     ]
    }
   ],
   "source": [
    "y=torch.randn(3,3)\n",
    "z=x+y\n",
    "print(z)"
   ]
  },
  {
   "cell_type": "code",
   "execution_count": 58,
   "metadata": {},
   "outputs": [
    {
     "name": "stdout",
     "output_type": "stream",
     "text": [
      "tensor([[-0.1956, -2.0436,  2.3679],\n",
      "        [-0.7472,  1.6500,  1.8465],\n",
      "        [-0.3698, -0.2404, -0.9299]])\n",
      "tensor([[ 0.3636, -1.6916,  2.1166],\n",
      "        [-2.0041,  2.4978,  1.0890],\n",
      "        [ 0.1588, -0.5293, -0.6800]])\n"
     ]
    }
   ],
   "source": [
    "print(x)\n",
    "x.add_(y)\n",
    "print(x)"
   ]
  },
  {
   "cell_type": "code",
   "execution_count": null,
   "metadata": {},
   "outputs": [],
   "source": []
  }
 ],
 "metadata": {
  "kernelspec": {
   "display_name": "Python 3",
   "language": "python",
   "name": "python3"
  },
  "language_info": {
   "codemirror_mode": {
    "name": "ipython",
    "version": 3
   },
   "file_extension": ".py",
   "mimetype": "text/x-python",
   "name": "python",
   "nbconvert_exporter": "python",
   "pygments_lexer": "ipython3",
   "version": "3.6.2"
  }
 },
 "nbformat": 4,
 "nbformat_minor": 2
}
