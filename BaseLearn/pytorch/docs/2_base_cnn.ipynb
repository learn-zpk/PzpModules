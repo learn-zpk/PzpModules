{
 "cells": [
  {
   "cell_type": "markdown",
   "metadata": {},
   "source": [
    "## 为什么要用卷积神经网络\n",
    "- 传统的网络需要大量的参数，但是这些参数是否重复了，例如，我们识别一个人，只要看到眼睛、鼻子和嘴就基本能识别出来，往往`局部特征就可以做出判断，并不需要全部特征`。\n",
    "- 平移不变性\n",
    "- 通过卷积的计算操作来提取图像局部特征，每一层都会计算一些局部特征，这写局部特征再汇总到下一层，一层一层的传递下去，特征由小变大，最后再通过这些局部的特征对图片进行处理，这样大大提供计算效率，提高准确度"
   ]
  },
  {
   "cell_type": "markdown",
   "metadata": {},
   "source": [
    "## 卷积介绍\n",
    "### 卷积计算\n",
    "- 卷积核Kernel: 也称作为过滤器filter，一般是一个3*3或者5*5的权重矩阵W。\n",
    "- 输入矩阵使用卷积核W进行滑动，每滑动一步，将所覆盖的值与矩阵对应的值相乘，求和做为输出矩阵的一项，依次类推。5*5的矩阵不做padding，输出则是3*3的新矩阵\n",
    "- 边界填充Padding: 对输入矩阵上下左右各加padding层\n",
    "- 步长Stride: 指定每次滑动几个距离\n",
    "- 输出矩阵大小: $output\\_size=1+\\frac{input\\_size+2*padding-kernel\\_size}{stride}$"
   ]
  },
  {
   "cell_type": "markdown",
   "metadata": {},
   "source": [
    "### 卷积层\n",
    "- 每一个卷积层会设置多个核，每个核代表不同的特征\n",
    "- 训练过程就是训练这写不同的核\n",
    "- 卷积的操作是线性的，所以也需要激活函数，一般情况下使用relu\n",
    "- [卷积层计算细节](https://zhuanlan.zhihu.com/p/29119239)"
   ]
  },
  {
   "cell_type": "markdown",
   "metadata": {},
   "source": [
    "### 池化层pooling\n",
    "- 减少卷积层之间的连接，降低运算复杂程度，减少空间大小\n",
    "- 与卷积操作一样，卷积核覆盖的区域进行合并，只保留一个值\n",
    "- 合并的方式: \n",
    "    - max_pooling:取最大值\n",
    "    - avg_pooling:取平均值\n",
    "- 输出矩阵大小: $output\\_size=1+\\frac{input\\_size-kernel\\_size}{stride}$"
   ]
  },
  {
   "cell_type": "markdown",
   "metadata": {},
   "source": [
    "### dropout层\n",
    "- 防止过拟合，增强模型的泛化能力\n",
    "- 按照一定的概率随机将一部分神经网络单元暂时从网络中丢弃\n",
    "\n",
    "### 全链接层\n",
    "- 一般作为最后的输出层使用\n",
    "- 将特征进行压扁，变成一维向量\n",
    "- 分类用softmax，回归用linear即可"
   ]
  },
  {
   "cell_type": "markdown",
   "metadata": {},
   "source": [
    "[官方案例](https://pytorch.org/tutorials/beginner/blitz/neural_networks_tutorial.html)"
   ]
  },
  {
   "cell_type": "code",
   "execution_count": 7,
   "metadata": {},
   "outputs": [],
   "source": [
    "import torch\n",
    "import torch.nn as nn\n",
    "import torch.nn.functional as F\n",
    "\n",
    "class Net(nn.Module):\n",
    "    def __init__(self):\n",
    "        super(Net,self).__init__()\n",
    "        self.conv1=nn.Conv2d(1,6,3) # 1个输入通道，6个输出通道，3*3的卷积核\n",
    "        self.conv2=nn.Conv2d(6,16,3) # 6个输入通道，16个输出通道，3*3的卷积核\n",
    "        self.fc1=nn.Linear(16*6*6,120)  #16*6*6是输入的特征数，120是输出的特征数 y=Wx+b\n",
    "        self.fc2=nn.Linear(120,84)\n",
    "        self.fc3=nn.Linear(84,10)\n",
    "    def forward(self,x):\n",
    "        x=F.max_pool2d(F.relu(self.conv1(x)),(2,2)) \n",
    "        x=F.max_pool2d(F.relu(self.conv2(x)),(2,2))\n",
    "        x=x.view(-1,self.num_flat_features(x)) # reshape\n",
    "        x=F.relu(self.fc1(x))\n",
    "        x=F.relu(self.fc2(x))\n",
    "        x=self.fc3(x)\n",
    "        return x\n",
    "        \n",
    "    def num_flat_features(self,x):\n",
    "        size = x.size()[1:]  # all dimensions except the batch dimension\n",
    "        num_features = 1\n",
    "        for s in size:\n",
    "            num_features *= s\n",
    "        return num_features\n",
    "        "
   ]
  },
  {
   "cell_type": "code",
   "execution_count": 8,
   "metadata": {},
   "outputs": [
    {
     "name": "stdout",
     "output_type": "stream",
     "text": [
      "Net(\n",
      "  (conv1): Conv2d(1, 6, kernel_size=(3, 3), stride=(1, 1))\n",
      "  (conv2): Conv2d(6, 16, kernel_size=(3, 3), stride=(1, 1))\n",
      "  (fc1): Linear(in_features=576, out_features=120, bias=True)\n",
      "  (fc2): Linear(in_features=120, out_features=84, bias=True)\n",
      "  (fc3): Linear(in_features=84, out_features=10, bias=True)\n",
      ")\n"
     ]
    }
   ],
   "source": [
    "net=Net()\n",
    "print(net)"
   ]
  },
  {
   "cell_type": "code",
   "execution_count": 9,
   "metadata": {},
   "outputs": [
    {
     "name": "stdout",
     "output_type": "stream",
     "text": [
      "10\n",
      "torch.Size([6, 1, 3, 3])\n"
     ]
    }
   ],
   "source": [
    "params = list(net.parameters())\n",
    "print(len(params))\n",
    "print(params[0].size()) # conv1.weight "
   ]
  },
  {
   "cell_type": "code",
   "execution_count": 10,
   "metadata": {},
   "outputs": [
    {
     "name": "stdout",
     "output_type": "stream",
     "text": [
      "tensor([[ 0.1074,  0.0972, -0.0027, -0.0031, -0.0776, -0.1223, -0.0472, -0.0660,\n",
      "          0.0020,  0.0695]], grad_fn=<AddmmBackward>)\n"
     ]
    }
   ],
   "source": [
    "input=torch.randn(1,1,32,32) \n",
    "out=net(input)\n",
    "print(out)"
   ]
  },
  {
   "cell_type": "code",
   "execution_count": 11,
   "metadata": {},
   "outputs": [],
   "source": [
    "net.zero_grad()\n",
    "out.backward(torch.randn(1,10))  "
   ]
  },
  {
   "cell_type": "code",
   "execution_count": 12,
   "metadata": {},
   "outputs": [
    {
     "name": "stdout",
     "output_type": "stream",
     "text": [
      "tensor(1.0321, grad_fn=<MseLossBackward>)\n"
     ]
    }
   ],
   "source": [
    "# loss function\n",
    "output=net(input)\n",
    "target=torch.randn(10)\n",
    "target=target.view(1,-1)\n",
    "\n",
    "criterion=nn.MSELoss()\n",
    "loss=criterion(output,target)\n",
    "print(loss)"
   ]
  },
  {
   "cell_type": "code",
   "execution_count": 15,
   "metadata": {},
   "outputs": [
    {
     "name": "stdout",
     "output_type": "stream",
     "text": [
      "<MseLossBackward object at 0x11dfbb7f0>\n",
      "<AddmmBackward object at 0x11dfbb9b0>\n",
      "<AccumulateGrad object at 0x11dfbb7f0>\n"
     ]
    }
   ],
   "source": [
    "\"\"\"input -> conv2d -> relu -> maxpool2d -> conv2d -> relu -> maxpool2d\n",
    "      -> view -> linear -> relu -> linear -> relu -> linear\n",
    "      -> MSELoss\n",
    "      -> loss\"\"\"\n",
    "print(loss.grad_fn) #MSELoss\n",
    "print(loss.grad_fn.next_functions[0][0])\n",
    "print(loss.grad_fn.next_functions[0][0].next_functions[0][0])  # ReLU"
   ]
  },
  {
   "cell_type": "code",
   "execution_count": 17,
   "metadata": {},
   "outputs": [
    {
     "name": "stdout",
     "output_type": "stream",
     "text": [
      "tensor([0., 0., 0., 0., 0., 0.])\n",
      "tensor([ 0.0052,  0.0051, -0.0123,  0.0139,  0.0150, -0.0265])\n"
     ]
    }
   ],
   "source": [
    "net.zero_grad()\n",
    "print(net.conv1.bias.grad)\n",
    "loss.backward()\n",
    "print(net.conv1.bias.grad)"
   ]
  },
  {
   "cell_type": "code",
   "execution_count": null,
   "metadata": {},
   "outputs": [],
   "source": [
    "import torch.optim as optim\n",
    "\n",
    "# create your optimizer\n",
    "optimizer = optim.SGD(net.parameters(), lr=0.01)\n",
    "\n",
    "# in your training loop:\n",
    "optimizer.zero_grad()   # zero the gradient buffers\n",
    "output = net(input)\n",
    "loss = criterion(output, target)\n",
    "loss.backward()\n",
    "optimizer.step()    # Does the update"
   ]
  }
 ],
 "metadata": {
  "kernelspec": {
   "display_name": "Python 3",
   "language": "python",
   "name": "python3"
  },
  "language_info": {
   "codemirror_mode": {
    "name": "ipython",
    "version": 3
   },
   "file_extension": ".py",
   "mimetype": "text/x-python",
   "name": "python",
   "nbconvert_exporter": "python",
   "pygments_lexer": "ipython3",
   "version": "3.6.2"
  }
 },
 "nbformat": 4,
 "nbformat_minor": 2
}
