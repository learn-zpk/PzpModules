{
 "cells": [
  {
   "cell_type": "markdown",
   "metadata": {},
   "source": [
    "## 环境搭建(基于anaconda,cpu版本)"
   ]
  },
  {
   "cell_type": "markdown",
   "metadata": {},
   "source": [
    "```shell\n",
    "conda create -n pytorch python=3.6\n",
    "conda activate pytorch\n",
    "# conda国内源用不了，用pip装\n",
    "# conda install pytorch-cpu torchvision-cpu -c pytorch\n",
    "pip install torch torchvision\n",
    "```\n",
    "- 测试下\n",
    "```python\n",
    "import torch\n",
    "print(torch.__version__)\n",
    "'1.1.0'\n",
    "```\n",
    "- 安装jupyter:`pip install jupyter`"
   ]
  },
  {
   "cell_type": "markdown",
   "metadata": {},
   "source": [
    "## 基本操作"
   ]
  },
  {
   "cell_type": "code",
   "execution_count": 20,
   "metadata": {},
   "outputs": [],
   "source": [
    "import torch"
   ]
  },
  {
   "cell_type": "markdown",
   "metadata": {},
   "source": [
    "- 创建一个5*3的未初始化矩阵"
   ]
  },
  {
   "cell_type": "code",
   "execution_count": 4,
   "metadata": {},
   "outputs": [
    {
     "name": "stdout",
     "output_type": "stream",
     "text": [
      "tensor([[1.2612e-44, 0.0000e+00, 0.0000e+00],\n",
      "        [0.0000e+00, 0.0000e+00, 0.0000e+00],\n",
      "        [1.7215e-30, 1.4013e-45, 1.4013e-45],\n",
      "        [0.0000e+00, 0.0000e+00, 0.0000e+00],\n",
      "        [0.0000e+00, 0.0000e+00, 0.0000e+00]])\n"
     ]
    }
   ],
   "source": [
    "x = torch.empty(5, 3)\n",
    "print(x)"
   ]
  },
  {
   "cell_type": "markdown",
   "metadata": {},
   "source": [
    "- 创建一个随机初始化矩阵"
   ]
  },
  {
   "cell_type": "code",
   "execution_count": 7,
   "metadata": {},
   "outputs": [
    {
     "name": "stdout",
     "output_type": "stream",
     "text": [
      "tensor([[0.6306, 0.0139, 0.0380],\n",
      "        [0.0561, 0.9127, 0.5848],\n",
      "        [0.7276, 0.3660, 0.8764],\n",
      "        [0.5534, 0.9967, 0.0024],\n",
      "        [0.7386, 0.1533, 0.0286]])\n"
     ]
    }
   ],
   "source": [
    "x=torch.rand(5,3)\n",
    "print(x)"
   ]
  },
  {
   "cell_type": "markdown",
   "metadata": {},
   "source": [
    "- 创建一个全0的矩阵，指定数据类型为long"
   ]
  },
  {
   "cell_type": "code",
   "execution_count": 8,
   "metadata": {},
   "outputs": [
    {
     "name": "stdout",
     "output_type": "stream",
     "text": [
      "tensor([[0, 0, 0],\n",
      "        [0, 0, 0],\n",
      "        [0, 0, 0],\n",
      "        [0, 0, 0],\n",
      "        [0, 0, 0]])\n"
     ]
    }
   ],
   "source": [
    "x=torch.zeros(5,3,dtype=torch.long)\n",
    "print(x)"
   ]
  },
  {
   "cell_type": "markdown",
   "metadata": {},
   "source": [
    "- 使用list创建tensor"
   ]
  },
  {
   "cell_type": "code",
   "execution_count": 10,
   "metadata": {},
   "outputs": [
    {
     "name": "stdout",
     "output_type": "stream",
     "text": [
      "tensor([[3, 5, 6, 8],\n",
      "        [2, 4, 6, 9]])\n"
     ]
    }
   ],
   "source": [
    "x=torch.tensor([[3,5,6,8],[2,4,6,9]])\n",
    "print(x)"
   ]
  },
  {
   "cell_type": "markdown",
   "metadata": {},
   "source": [
    "- 根据现有的张量创建张量，可以额外设置属性覆盖原有继承的属性"
   ]
  },
  {
   "cell_type": "code",
   "execution_count": 23,
   "metadata": {},
   "outputs": [
    {
     "name": "stdout",
     "output_type": "stream",
     "text": [
      "torch.float64\n",
      "tensor([[1., 1., 1., 1., 1., 1.],\n",
      "        [1., 1., 1., 1., 1., 1.],\n",
      "        [1., 1., 1., 1., 1., 1.],\n",
      "        [1., 1., 1., 1., 1., 1.],\n",
      "        [1., 1., 1., 1., 1., 1.]], dtype=torch.float64)\n",
      "torch.float32\n",
      "tensor([[1., 1., 1., 1., 1., 1.],\n",
      "        [1., 1., 1., 1., 1., 1.],\n",
      "        [1., 1., 1., 1., 1., 1.],\n",
      "        [1., 1., 1., 1., 1., 1.],\n",
      "        [1., 1., 1., 1., 1., 1.]])\n"
     ]
    }
   ],
   "source": [
    "x=x.new_ones(5,6) #new_ones()会保持 x 原有的属性\n",
    "print(x.dtype)\n",
    "print(x)\n",
    "x=x.new_ones(5,6,dtype=torch.float) # 声明那个就覆盖那个\n",
    "print(x.dtype)\n",
    "print(x)\n"
   ]
  },
  {
   "cell_type": "code",
   "execution_count": 24,
   "metadata": {},
   "outputs": [
    {
     "name": "stdout",
     "output_type": "stream",
     "text": [
      "tensor([[-0.2556, -0.6149,  0.1031, -0.7567,  0.4570, -1.7502],\n",
      "        [-0.7812,  0.4714,  1.0411, -2.3738,  0.2339,  1.0978],\n",
      "        [-1.8101,  0.0969, -2.8165, -0.7049, -0.6684, -0.5910],\n",
      "        [ 1.0470, -0.9930,  2.7638,  0.8098, -0.4576, -0.6748],\n",
      "        [ 0.3987,  1.9479, -0.1405, -0.4190,  0.3139,  1.3922]],\n",
      "       dtype=torch.float64)\n",
      "torch.Size([5, 6])\n"
     ]
    }
   ],
   "source": [
    "x = torch.randn_like(x, dtype=torch.double)\n",
    "print(x)\n",
    "print(x.size()) # 获取张量的shape属性"
   ]
  },
  {
   "cell_type": "markdown",
   "metadata": {},
   "source": [
    "- 加法"
   ]
  },
  {
   "cell_type": "code",
   "execution_count": 28,
   "metadata": {},
   "outputs": [
    {
     "name": "stdout",
     "output_type": "stream",
     "text": [
      "tensor([[ 0.0677, -0.5265,  0.4787,  0.0115,  0.4908, -0.9333],\n",
      "        [-0.1396,  1.3780,  1.8048, -1.7193,  0.5380,  1.6352],\n",
      "        [-0.9253,  0.9837, -1.9807, -0.2989, -0.3932,  0.1182],\n",
      "        [ 1.8643, -0.2414,  2.8462,  0.8938, -0.1084,  0.2608],\n",
      "        [ 0.9144,  2.2140,  0.3263, -0.3531,  0.4514,  2.2828]],\n",
      "       dtype=torch.float64)\n"
     ]
    }
   ],
   "source": [
    "y1 = torch.rand(5, 6,dtype=torch.double) \n",
    "print(x + y1) # 需要类型保持一致"
   ]
  },
  {
   "cell_type": "code",
   "execution_count": 30,
   "metadata": {},
   "outputs": [
    {
     "name": "stdout",
     "output_type": "stream",
     "text": [
      "tensor([[ 0.2845, -0.3251,  0.5284, -0.6453,  1.4314, -1.5641],\n",
      "        [ 0.2123,  1.1909,  1.3762, -2.2693,  1.0012,  1.3283],\n",
      "        [-1.3866,  0.2038, -2.4345, -0.3131, -0.2016,  0.3787],\n",
      "        [ 1.0898, -0.0245,  3.6384,  1.3068,  0.3205,  0.2546],\n",
      "        [ 0.8418,  2.9421,  0.7061, -0.3817,  1.0483,  1.7234]],\n",
      "       dtype=torch.float64)\n"
     ]
    }
   ],
   "source": [
    "y2 = torch.rand(5, 6,dtype=torch.double) \n",
    "print(torch.add(x,y2))"
   ]
  },
  {
   "cell_type": "code",
   "execution_count": 34,
   "metadata": {},
   "outputs": [
    {
     "name": "stdout",
     "output_type": "stream",
     "text": [
      "tensor([[-0.0190,  0.2301,  0.4980, -0.0196,  0.5239, -1.3210],\n",
      "        [-0.7384,  1.0833,  1.2184, -1.3988,  1.1273,  1.9711],\n",
      "        [-1.3116,  0.5075, -1.8717,  0.0325, -0.0639,  0.2848],\n",
      "        [ 1.6740, -0.9400,  3.2794,  1.5510, -0.4248,  0.0037],\n",
      "        [ 1.0638,  2.2850, -0.1177,  0.3693,  0.5190,  1.5973]],\n",
      "       dtype=torch.float64)\n"
     ]
    }
   ],
   "source": [
    "out=torch.empty(5, 6,dtype=torch.double)\n",
    "y3 = torch.rand(5, 6,dtype=torch.double) \n",
    "torch.add(x,y3,out=out) # 指定out\n",
    "print(out)"
   ]
  },
  {
   "cell_type": "code",
   "execution_count": 36,
   "metadata": {},
   "outputs": [
    {
     "name": "stdout",
     "output_type": "stream",
     "text": [
      "tensor([[ 0.2270, -0.3608,  1.0462, -0.6915,  1.7523, -2.8591],\n",
      "        [-0.6079,  1.2486,  2.7740, -3.9970,  0.7881,  2.4661],\n",
      "        [-3.3477,  1.1527, -5.5187, -0.8716, -0.7509, -0.5952],\n",
      "        [ 2.6154, -1.0364,  6.3401,  1.6774, -0.7980, -0.5677],\n",
      "        [ 1.4586,  4.3596, -0.2532, -0.7524,  0.6333,  3.4716]],\n",
      "       dtype=torch.float64)\n",
      "tensor([[-0.0286, -0.9756,  1.1493, -1.4482,  2.2093, -4.6093],\n",
      "        [-1.3891,  1.7199,  3.8150, -6.3708,  1.0220,  3.5640],\n",
      "        [-5.1578,  1.2497, -8.3352, -1.5765, -1.4194, -1.1862],\n",
      "        [ 3.6623, -2.0293,  9.1039,  2.4872, -1.2557, -1.2425],\n",
      "        [ 1.8573,  6.3075, -0.3938, -1.1714,  0.9472,  4.8638]],\n",
      "       dtype=torch.float64)\n"
     ]
    }
   ],
   "source": [
    "y.add_(x) \n",
    "print(y)"
   ]
  },
  {
   "cell_type": "markdown",
   "metadata": {},
   "source": [
    "> 以“_”结尾的操作会用结果替换原变量 "
   ]
  },
  {
   "cell_type": "code",
   "execution_count": 39,
   "metadata": {},
   "outputs": [
    {
     "name": "stdout",
     "output_type": "stream",
     "text": [
      "tensor([-0.0286, -1.3891, -5.1578,  3.6623,  1.8573], dtype=torch.float64)\n",
      "tensor([-0.0286, -0.9756,  1.1493, -1.4482,  2.2093, -4.6093],\n",
      "       dtype=torch.float64)\n"
     ]
    }
   ],
   "source": [
    "print(y[:,0])\n",
    "print(y[0,:])"
   ]
  },
  {
   "cell_type": "markdown",
   "metadata": {},
   "source": [
    "- torch.view:相当于numpy.reshape()操作"
   ]
  },
  {
   "cell_type": "code",
   "execution_count": 50,
   "metadata": {},
   "outputs": [
    {
     "name": "stdout",
     "output_type": "stream",
     "text": [
      "torch.Size([4, 4])\n",
      "torch.Size([1, 16])\n",
      "torch.Size([4, 4])\n"
     ]
    }
   ],
   "source": [
    "x=torch.randn(4,4)\n",
    "y=x.view(1,16)\n",
    "z = x.view(-1, 4) #-1: 从其他维度推算\n",
    "print(x.size())\n",
    "print(y.size())\n",
    "print(z.size())"
   ]
  },
  {
   "cell_type": "code",
   "execution_count": 55,
   "metadata": {},
   "outputs": [
    {
     "ename": "ValueError",
     "evalue": "only one element tensors can be converted to Python scalars",
     "output_type": "error",
     "traceback": [
      "\u001b[0;31m---------------------------------------------------------------------------\u001b[0m",
      "\u001b[0;31mValueError\u001b[0m                                Traceback (most recent call last)",
      "\u001b[0;32m<ipython-input-55-9bb8fe3f637a>\u001b[0m in \u001b[0;36m<module>\u001b[0;34m\u001b[0m\n\u001b[1;32m      1\u001b[0m \u001b[0mx\u001b[0m\u001b[0;34m=\u001b[0m\u001b[0mtorch\u001b[0m\u001b[0;34m.\u001b[0m\u001b[0mrandn\u001b[0m\u001b[0;34m(\u001b[0m\u001b[0;36m1\u001b[0m\u001b[0;34m)\u001b[0m\u001b[0;34m\u001b[0m\u001b[0m\n\u001b[0;32m----> 2\u001b[0;31m \u001b[0mprint\u001b[0m\u001b[0;34m(\u001b[0m\u001b[0my\u001b[0m\u001b[0;34m.\u001b[0m\u001b[0mitem\u001b[0m\u001b[0;34m(\u001b[0m\u001b[0;34m)\u001b[0m\u001b[0;34m)\u001b[0m \u001b[0;31m# 获取Tensors对应的python格式数值\u001b[0m\u001b[0;34m\u001b[0m\u001b[0m\n\u001b[0m",
      "\u001b[0;31mValueError\u001b[0m: only one element tensors can be converted to Python scalars"
     ]
    }
   ],
   "source": [
    "x=torch.randn(1)\n",
    "print(x.item()) # 获取Tensors对应的python格式数值,只有(1)维的可以转"
   ]
  },
  {
   "cell_type": "markdown",
   "metadata": {},
   "source": [
    "- numpy与torch变量互转: 所有的Tensor类型默认都是基于CPU，CharTensor 类型不支持到 NumPy 的转换."
   ]
  },
  {
   "cell_type": "code",
   "execution_count": 57,
   "metadata": {},
   "outputs": [
    {
     "name": "stdout",
     "output_type": "stream",
     "text": [
      "tensor([1., 1., 1., 1., 1.])\n",
      "[1. 1. 1. 1. 1.]\n",
      "tensor([2., 2., 2., 2., 2.])\n",
      "[2. 2. 2. 2. 2.]\n"
     ]
    }
   ],
   "source": [
    "a=torch.ones(5)\n",
    "b=a.numpy()\n",
    "print(a)\n",
    "print(b)\n",
    "a.add_(1) # b也会改变\n",
    "print(a)\n",
    "print(b)"
   ]
  },
  {
   "cell_type": "code",
   "execution_count": 59,
   "metadata": {},
   "outputs": [
    {
     "name": "stdout",
     "output_type": "stream",
     "text": [
      "[1. 1. 1. 1. 1.]\n",
      "tensor([1., 1., 1., 1., 1.], dtype=torch.float64)\n",
      "[2. 2. 2. 2. 2.]\n",
      "tensor([2., 2., 2., 2., 2.], dtype=torch.float64)\n"
     ]
    }
   ],
   "source": [
    "import numpy as np\n",
    "a=np.ones(5)\n",
    "b=torch.from_numpy(a)\n",
    "print(a)\n",
    "print(b)\n",
    "np.add(a,1,out=a) # b也会改变\n",
    "print(a)\n",
    "print(b)"
   ]
  },
  {
   "cell_type": "markdown",
   "metadata": {},
   "source": [
    "- cuda张量"
   ]
  },
  {
   "cell_type": "code",
   "execution_count": 62,
   "metadata": {},
   "outputs": [],
   "source": [
    "# 判断cuda是否可用 torch.cuda.is_avaliable()\n",
    "if torch.cuda.is_available():\n",
    "    device=torch.device('xxx') # 名为xxx的cuda对象\n",
    "    y=torch.ones_like(x,device=device) # 在GPU中创建张量\n",
    "    x = x.to(device)\n",
    "    z = x + y\n",
    "    print(z)\n",
    "    print(z.to(\"cpu\", torch.double))       # ``.to`` 也会对变量的类型做更改"
   ]
  },
  {
   "cell_type": "code",
   "execution_count": null,
   "metadata": {},
   "outputs": [],
   "source": []
  }
 ],
 "metadata": {
  "kernelspec": {
   "display_name": "Python 3",
   "language": "python",
   "name": "python3"
  },
  "language_info": {
   "codemirror_mode": {
    "name": "ipython",
    "version": 3
   },
   "file_extension": ".py",
   "mimetype": "text/x-python",
   "name": "python",
   "nbconvert_exporter": "python",
   "pygments_lexer": "ipython3",
   "version": "3.6.2"
  }
 },
 "nbformat": 4,
 "nbformat_minor": 2
}
